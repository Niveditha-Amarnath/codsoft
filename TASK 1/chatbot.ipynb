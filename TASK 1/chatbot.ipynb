{
  "nbformat": 4,
  "nbformat_minor": 0,
  "metadata": {
    "colab": {
      "provenance": []
    },
    "kernelspec": {
      "name": "python3",
      "display_name": "Python 3"
    },
    "language_info": {
      "name": "python"
    }
  },
  "cells": [
    {
      "cell_type": "code",
      "execution_count": null,
      "metadata": {
        "colab": {
          "base_uri": "https://localhost:8080/"
        },
        "id": "a8Fy1IkiJM1U",
        "outputId": "56368863-9ddd-41c3-87e8-5a268a796ed0"
      },
      "outputs": [
        {
          "output_type": "stream",
          "name": "stdout",
          "text": [
            "Chatbot: Hello! How can I assist you today?\n",
            "You: hello\n",
            "Chatbot: Hello! How can I help you today?\n",
            "You: how are you\n",
            "Chatbot: I'm just a chatbot, but thanks for asking!\n",
            "You: bye\n",
            "Chatbot: I'm not sure how to respond to that. Can you please rephrase your question?\n",
            "You: goodbye\n",
            "Chatbot: Goodbye! Have a great day!\n"
          ]
        }
      ],
      "source": [
        "rules = {\n",
        "    \"hello\": \"Hello! How can I help you today?\",\n",
        "    \"how are you\": \"I'm just a chatbot, but thanks for asking!\",\n",
        "    \"goodbye\": \"Goodbye! Have a great day!\",\n",
        "    \"name\": \"I am a chatbot. You can call me ChatGPT.\",\n",
        "    \"default\": \"I'm not sure how to respond to that. Can you please rephrase your question?\"\n",
        "}\n",
        "def chatbot_response(user_input):\n",
        "    user_input = user_input.lower()\n",
        "    for rule, response in rules.items():\n",
        "        if rule in user_input:\n",
        "            return response\n",
        "    return rules[\"default\"]\n",
        "print(\"Chatbot: Hello! How can I assist you today?\")\n",
        "while True:\n",
        "    user_input = input(\"You: \")\n",
        "    if user_input.lower() == \"exit\":\n",
        "        print(\"Chatbot: Goodbye!\")\n",
        "        break\n",
        "    response = chatbot_response(user_input)\n",
        "    print(\"Chatbot:\", response)\n"
      ]
    }
  ]
}
